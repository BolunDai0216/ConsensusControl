{
 "cells": [
  {
   "cell_type": "markdown",
   "metadata": {},
   "source": [
    "# Exercise 1: directed and switching graphs"
   ]
  },
  {
   "cell_type": "code",
   "execution_count": 1,
   "metadata": {},
   "outputs": [],
   "source": [
    "# header to start\n",
    "%matplotlib notebook\n",
    "import numpy as np\n",
    "import matplotlib.pyplot as plt\n",
    "import scipy.linalg\n",
    "import pickle\n",
    "from scipy.linalg import expm"
   ]
  },
  {
   "cell_type": "code",
   "execution_count": 2,
   "metadata": {},
   "outputs": [],
   "source": [
    "def getLaplacian(E, n_vertices, directed=False):\n",
    "    L = np.zeros((n_vertices, n_vertices))\n",
    "    for e in E:\n",
    "        if directed:\n",
    "            L[e[1]][e[1]] += 1\n",
    "            L[e[1]][e[0]] = -1\n",
    "        else:\n",
    "            L[e[1]][e[1]] += 1\n",
    "            L[e[0]][e[0]] += 1\n",
    "            L[e[1]][e[0]] = -1\n",
    "            L[e[0]][e[1]] = -1\n",
    "    return L"
   ]
  },
  {
   "cell_type": "markdown",
   "metadata": {},
   "source": [
    "You are given four examples of sets of four **directed** graphs:\n",
    "* In the first example, contained in the directory Exercise1_Graph10a, all the graphs contain 10 vertices\n",
    "* In the second example, contained in the directory Exercise1_Graph10b, all the graphs contain 10 vertices\n",
    "* In the third example, contained in the directory Exercise1_Graph100a, all the graphs contain 100 vertices\n",
    "* In the last example, contained in the directory Exercise1_Graph100b, all the graphs contain 100 vertices\n",
    "\n",
    "The following code can be used to load each graph and compute its Laplacian."
   ]
  },
  {
   "cell_type": "code",
   "execution_count": 3,
   "metadata": {},
   "outputs": [],
   "source": [
    "# to load the list of edges from file, you can do the following\n",
    "# with open('Exercise1_Graph10a/graph1.pickle', 'rb') as f:\n",
    "#     E = pickle.load(f)\n",
    "\n",
    "# the laplacian can then be found using\n",
    "# L = getLaplacian(E, 10, directed=True)\n",
    "\n",
    "# note that it is possible to find the eigenvalues of a function using the function\n",
    "# https://docs.scipy.org/doc/numpy/reference/generated/numpy.linalg.eigvals.html\n",
    "# np.linalg.eigvals()\n",
    "\n",
    "# it is possible to sort an array of numbers using\n",
    "# https://docs.scipy.org/doc/numpy/reference/generated/numpy.sort.html\n",
    "# np.sort()\n",
    "\n",
    "# it is possible to find the exponential of a matrix using\n",
    "# https://docs.scipy.org/doc/scipy/reference/generated/scipy.linalg.expm.html#scipy.linalg.expm\n",
    "# scipy.linalg.expm()"
   ]
  },
  {
   "cell_type": "markdown",
   "metadata": {},
   "source": [
    "## Question 1\n",
    "\n",
    "For all the graphs in all the examples, which graph contains a path from vertex 1 to vertex 10? What is then the minimum path length? Explain how you computed the answer.\n",
    "\n",
    "We have the following property: for any directed graph, and any $\\delta > 0$ we have,\n",
    "\n",
    "$$\\Big[e^{-\\delta\\mathbf{L}(\\mathcal{D})}\\Big]_{ij} > 0$$\n",
    "\n",
    "if and only if $i = j$ or there is a directed path of any length from $j$ to $i$. Otherwise the entry is null.\n",
    "\n",
    "Since now we want to find whether there is a path between the first and the tenth vertex we only need to look at the (9, 0) element of each of the exponentials. If it is larger than zero then we have a path connecting the two vertices, for simplicity we can let $\\delta = 1$."
   ]
  },
  {
   "cell_type": "code",
   "execution_count": 10,
   "metadata": {},
   "outputs": [
    {
     "name": "stdout",
     "output_type": "stream",
     "text": [
      "For the graph Exercise1_Graph10a/graph2.pickle there is a path connecting vertex 1 and 10.\n",
      "For the graph Exercise1_Graph10b/graph2.pickle there is a path connecting vertex 1 and 10.\n",
      "For the graph Exercise1_Graph100a/graph1.pickle there is a path connecting vertex 1 and 10.\n",
      "For the graph Exercise1_Graph100a/graph3.pickle there is a path connecting vertex 1 and 10.\n",
      "For the graph Exercise1_Graph100a/graph4.pickle there is a path connecting vertex 1 and 10.\n",
      "For the graph Exercise1_Graph100b/graph4.pickle there is a path connecting vertex 1 and 10.\n"
     ]
    }
   ],
   "source": [
    "folders = ['Exercise1_Graph10a/', 'Exercise1_Graph10b/', 'Exercise1_Graph100a/', 'Exercise1_Graph100b/']\n",
    "graphs = ['graph1.pickle', 'graph2.pickle', 'graph3.pickle', 'graph4.pickle']\n",
    "\n",
    "for folder in folders:\n",
    "    for graph in graphs:\n",
    "        dir = folder + graph\n",
    "        with open(dir, 'rb') as f:\n",
    "            E = pickle.load(f)\n",
    "            try:\n",
    "                L = getLaplacian(E, 10, directed=True)\n",
    "            except:\n",
    "                L = getLaplacian(E, 100, directed=True)\n",
    "            e = expm(-L)\n",
    "            path_exist = e[9, 0]\n",
    "            if path_exist > 0:\n",
    "                print('For the graph {} there is a path connecting vertex 1 and 10.'.format(dir, path_exist))"
   ]
  },
  {
   "cell_type": "markdown",
   "metadata": {},
   "source": [
    "## Question 2\n",
    "\n",
    "For each of these graphs, which one contains a rooted-out branching? Why?\n",
    "\n",
    "We have the following property: for a directed graph $\\mathcal{D}$ it has a rooted-out branching if and only if for any $\\delta > 0$, at least one of the columns of $e^{-\\delta\\mathbf{L}(\\mathcal{D})}$ contains only positive entries.\n",
    "\n",
    "To test this we can check the two following criterions:\n",
    " - The number of nonzero elements are the same as the number of the elements\n",
    " - The sum of the column is the same as the sum of its absolute version \n",
    "\n",
    "As we can see none of the graphs contains a rooted-out branching."
   ]
  },
  {
   "cell_type": "code",
   "execution_count": 27,
   "metadata": {},
   "outputs": [],
   "source": [
    "folders = ['Exercise1_Graph10a/', 'Exercise1_Graph10b/', 'Exercise1_Graph100a/', 'Exercise1_Graph100b/']\n",
    "graphs = ['graph1.pickle', 'graph2.pickle', 'graph3.pickle', 'graph4.pickle']\n",
    "\n",
    "for folder in folders:\n",
    "    for graph in graphs:\n",
    "        dir = folder + graph\n",
    "        with open(dir, 'rb') as f:\n",
    "            E = pickle.load(f)\n",
    "            try:\n",
    "                L = getLaplacian(E, 10, directed=True)\n",
    "            except:\n",
    "                L = getLaplacian(E, 100, directed=True)\n",
    "            e = expm(-L)\n",
    "            for col in e.T:\n",
    "                nonzero = np.count_nonzero(col)\n",
    "                all_nonzero = np.shape(col)[0] == nonzero\n",
    "                all_not_negative = np.sum(col) == np.sum(np.positive(col)) and np.sum(col) != 0\n",
    "                if all_nonzero and all_not_negative:\n",
    "                    print('Graph {} has a rooted-out branching'.format(dir))\n",
    "                    break\n"
   ]
  },
  {
   "cell_type": "markdown",
   "metadata": {},
   "source": [
    "## Question 3\n",
    "\n",
    "Assume that for each of the four examples, we implement the consensus protocol where the graphs are switching amoung the four possible graphs, one after the other (after graph 6 we switch back to graph 1). Which of these examples will lead to a converging consensus protocol? Why?\n",
    "\n",
    "## Question 4\n",
    "\n",
    "Simulate the consensus protocol for the four switching graphs examples and verify your answer to the previous question (use random initial conditions uniformly distributed between -10 and 10). Assume that the graphs are switching every 0.1 seconds in a first case and every 1 seconds in the second case. Plot the state of every vertex as a function of time in a graph (one graph per example). How is the convergence speed influenced by switching time?"
   ]
  },
  {
   "cell_type": "code",
   "execution_count": null,
   "metadata": {},
   "outputs": [],
   "source": []
  }
 ],
 "metadata": {
  "kernelspec": {
   "display_name": "Python 3",
   "language": "python",
   "name": "python3"
  },
  "language_info": {
   "codemirror_mode": {
    "name": "ipython",
    "version": 3
   },
   "file_extension": ".py",
   "mimetype": "text/x-python",
   "name": "python",
   "nbconvert_exporter": "python",
   "pygments_lexer": "ipython3",
   "version": "3.5.2"
  }
 },
 "nbformat": 4,
 "nbformat_minor": 2
}
